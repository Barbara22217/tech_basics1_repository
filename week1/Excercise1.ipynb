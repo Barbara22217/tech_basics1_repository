{
 "cells": [
  {
   "cell_type": "code",
   "execution_count": null,
   "id": "initial_id",
   "metadata": {
    "collapsed": true
   },
   "outputs": [],
   "source": ""
  },
  {
   "metadata": {},
   "cell_type": "markdown",
   "source": [
    "## Your first Jupiter Notebook\n",
    "\n",
    "Hello everyone, this is a Jupiter notebook. This will be our main format for most of the exercise sessions.\n",
    "\n",
    "The cool thing about Jupiter notebook is that it combines code and explanations in one file and let you run python code directly from here.\n",
    "\n",
    "First, let's try to run the following cell\n"
   ],
   "id": "20e9ac6206a1d74b"
  },
  {
   "metadata": {
    "ExecuteTime": {
     "end_time": "2025-04-07T07:53:05.990479Z",
     "start_time": "2025-04-07T07:53:05.974619Z"
    }
   },
   "cell_type": "code",
   "source": "print(\"Hello world!\")",
   "id": "f8b08a9e68dc85d4",
   "outputs": [
    {
     "name": "stdout",
     "output_type": "stream",
     "text": [
      "hello world\n"
     ]
    }
   ],
   "execution_count": 4
  },
  {
   "metadata": {},
   "cell_type": "markdown",
   "source": [
    "\n",
    "\n"
   ],
   "id": "725afa7a4564cfe5"
  },
  {
   "metadata": {},
   "cell_type": "markdown",
   "source": "",
   "id": "e6c572b47b46ff5d"
  }
 ],
 "metadata": {
  "kernelspec": {
   "display_name": "Python 3",
   "language": "python",
   "name": "python3"
  },
  "language_info": {
   "codemirror_mode": {
    "name": "ipython",
    "version": 2
   },
   "file_extension": ".py",
   "mimetype": "text/x-python",
   "name": "python",
   "nbconvert_exporter": "python",
   "pygments_lexer": "ipython2",
   "version": "2.7.6"
  }
 },
 "nbformat": 4,
 "nbformat_minor": 5
}
